{
 "cells": [
  {
   "cell_type": "markdown",
   "id": "ae82ee04",
   "metadata": {},
   "source": [
    "# Conditionals = bedingte Anweisungen\n"
   ]
  },
  {
   "cell_type": "code",
   "execution_count": 11,
   "id": "a34c035c",
   "metadata": {},
   "outputs": [
    {
     "name": "stdout",
     "output_type": "stream",
     "text": [
      "the weather is warm\n"
     ]
    }
   ],
   "source": [
    "\n",
    "temp = 22\n",
    "\n",
    "if temp > 20:\n",
    "    print(\"the weather is warm\")\n",
    "else:\n",
    "    print(\"the weather is cold\")"
   ]
  },
  {
   "cell_type": "code",
   "execution_count": 13,
   "id": "d419419a",
   "metadata": {},
   "outputs": [
    {
     "name": "stdout",
     "output_type": "stream",
     "text": [
      "the weather is cold\n"
     ]
    }
   ],
   "source": [
    "\n",
    "temp = 10\n",
    "\n",
    "if temp > 20:\n",
    "    print(\"the weather is warm\")\n",
    "else:\n",
    "    print(\"the weather is cold\")"
   ]
  },
  {
   "cell_type": "code",
   "execution_count": 16,
   "id": "9c1c794b",
   "metadata": {},
   "outputs": [
    {
     "name": "stdout",
     "output_type": "stream",
     "text": [
      "the weather is warm\n"
     ]
    }
   ],
   "source": [
    "\n",
    "temp = 15\n",
    "\n",
    "if temp >= 25:\n",
    "    print(\"the weather is warm\")\n",
    "elif temp >=15: # oder wenn\n",
    "    print(\"the weather is warm\")    \n",
    "else:\n",
    "    print(\"the weather is cold\")"
   ]
  },
  {
   "cell_type": "code",
   "execution_count": null,
   "id": "d1d18fcd",
   "metadata": {},
   "outputs": [],
   "source": []
  },
  {
   "cell_type": "code",
   "execution_count": null,
   "id": "ed31798f",
   "metadata": {},
   "outputs": [],
   "source": []
  },
  {
   "cell_type": "code",
   "execution_count": null,
   "id": "2df0ed84",
   "metadata": {},
   "outputs": [],
   "source": []
  },
  {
   "cell_type": "code",
   "execution_count": null,
   "id": "21bb3b7e",
   "metadata": {},
   "outputs": [],
   "source": []
  },
  {
   "cell_type": "code",
   "execution_count": null,
   "id": "348d787f",
   "metadata": {},
   "outputs": [],
   "source": []
  },
  {
   "cell_type": "code",
   "execution_count": null,
   "id": "2d0bd1db",
   "metadata": {},
   "outputs": [],
   "source": []
  },
  {
   "cell_type": "code",
   "execution_count": null,
   "id": "d7e1292f",
   "metadata": {},
   "outputs": [],
   "source": []
  }
 ],
 "metadata": {
  "kernelspec": {
   "display_name": "Python 3 (ipykernel)",
   "language": "python",
   "name": "python3"
  },
  "language_info": {
   "codemirror_mode": {
    "name": "ipython",
    "version": 3
   },
   "file_extension": ".py",
   "mimetype": "text/x-python",
   "name": "python",
   "nbconvert_exporter": "python",
   "pygments_lexer": "ipython3",
   "version": "3.9.12"
  }
 },
 "nbformat": 4,
 "nbformat_minor": 5
}
