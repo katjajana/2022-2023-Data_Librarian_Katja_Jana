{
 "cells": [
  {
   "cell_type": "code",
   "execution_count": null,
   "id": "62078324",
   "metadata": {},
   "outputs": [],
   "source": [
    "dirty_isbns = [\n",
    "    \" ISBN 978-3-518-58773-7 \", \n",
    "    \"ISBN___978-1491946008 \",\n",
    "    \"ISBN 978-1593276034\"]"
   ]
  },
  {
   "cell_type": "code",
   "execution_count": 5,
   "id": "c6fee9c1",
   "metadata": {},
   "outputs": [],
   "source": [
    "def clean_isbn():\n",
    "    isbn = \" ISBN 978-3-518-58773-7\"\n",
    "    print(isbn)\n",
    "\n",
    "  "
   ]
  },
  {
   "cell_type": "code",
   "execution_count": 6,
   "id": "6b63c4e6",
   "metadata": {},
   "outputs": [
    {
     "name": "stdout",
     "output_type": "stream",
     "text": [
      " ISBN 978-3-518-58773-7 \n"
     ]
    }
   ],
   "source": [
    "clean_isbn()"
   ]
  },
  {
   "cell_type": "code",
   "execution_count": 9,
   "id": "b2407694",
   "metadata": {},
   "outputs": [
    {
     "name": "stdout",
     "output_type": "stream",
     "text": [
      "ISBN 978-3-518-58773-7\n"
     ]
    }
   ],
   "source": [
    "def clean_isbn():\n",
    "    isbn = \" ISBN 978-3-518-58773-7 \"\n",
    "    isbn = isbn.strip()\n",
    "    print(isbn)\n",
    "    \n",
    "clean_isbn() "
   ]
  },
  {
   "cell_type": "code",
   "execution_count": null,
   "id": "1f43c331",
   "metadata": {},
   "outputs": [],
   "source": [
    "def clean_isbn():\n",
    "    isbn = \" ISBN 978-3-518-58773-7 \"\n",
    "    isbn = isbn.strip()\n",
    "    print(isbn)\n",
    "    \n",
    "clean_isbn() "
   ]
  },
  {
   "cell_type": "code",
   "execution_count": 10,
   "id": "eaeeb9ea",
   "metadata": {},
   "outputs": [
    {
     "name": "stdout",
     "output_type": "stream",
     "text": [
      "978-3-518-58773-7\n"
     ]
    }
   ],
   "source": [
    "def clean_isbn():\n",
    "    isbn = \" ISBN 978-3-518-58773-7 \"\n",
    "    isbn = isbn.replace(\"ISBN\", \"\")\n",
    "    isbn = isbn.strip()\n",
    "    print(isbn)\n",
    "    \n",
    "clean_isbn() "
   ]
  },
  {
   "cell_type": "code",
   "execution_count": 13,
   "id": "0dc85271",
   "metadata": {},
   "outputs": [
    {
     "name": "stdout",
     "output_type": "stream",
     "text": [
      "978-3-518-58773-7\n"
     ]
    }
   ],
   "source": [
    "def clean_isbn(isbn):\n",
    "    isbn = isbn.replace(\"ISBN\", \"\")\n",
    "    isbn = isbn.strip()\n",
    "    print(isbn)\n",
    "    \n",
    "clean_isbn(\" ISBN 978-3-518-58773-7 \") "
   ]
  },
  {
   "cell_type": "code",
   "execution_count": 35,
   "id": "72fdd4c1",
   "metadata": {},
   "outputs": [],
   "source": [
    "def clean_isbn(isbn):\n",
    "    isbn = isbn.replace(\"ISBN\", \"\")\n",
    "    isbn = isbn.replace(\"_\", \"\")\n",
    "    isbn = isbn.strip()\n",
    "    return isbn\n",
    "    \n",
    "cleaned_isnb_1 = clean_isbn(\" ISBN 978-3-518-58773-7 \") "
   ]
  },
  {
   "cell_type": "code",
   "execution_count": 18,
   "id": "b7a2792e",
   "metadata": {},
   "outputs": [],
   "source": [
    "cleaned_isnb_2 = clean_isbn(\" ISBN 978-3-518-58773-7 \") \n"
   ]
  },
  {
   "cell_type": "code",
   "execution_count": 20,
   "id": "765d032b",
   "metadata": {},
   "outputs": [
    {
     "name": "stdout",
     "output_type": "stream",
     "text": [
      "this is a nice isbn: + cleaned_isnbn_1\n"
     ]
    }
   ],
   "source": [
    "print(\"this is a nice isbn: + cleaned_isnbn_1\")"
   ]
  },
  {
   "cell_type": "code",
   "execution_count": 36,
   "id": "51be85dd",
   "metadata": {},
   "outputs": [
    {
     "name": "stdout",
     "output_type": "stream",
     "text": [
      "978-3-518-58773-7\n",
      "978-1491946008\n",
      "978-1593276034\n"
     ]
    }
   ],
   "source": [
    "\n",
    "\n",
    "for dirtyisbn in dirty_isbns:\n",
    "    print(clean_isbn(dirtyisbn))\n",
    "    \n",
    "    "
   ]
  },
  {
   "cell_type": "code",
   "execution_count": null,
   "id": "d6a2bf11",
   "metadata": {},
   "outputs": [],
   "source": []
  },
  {
   "cell_type": "code",
   "execution_count": null,
   "id": "cfb6d46a",
   "metadata": {},
   "outputs": [],
   "source": []
  }
 ],
 "metadata": {
  "kernelspec": {
   "display_name": "Python 3 (ipykernel)",
   "language": "python",
   "name": "python3"
  },
  "language_info": {
   "codemirror_mode": {
    "name": "ipython",
    "version": 3
   },
   "file_extension": ".py",
   "mimetype": "text/x-python",
   "name": "python",
   "nbconvert_exporter": "python",
   "pygments_lexer": "ipython3",
   "version": "3.9.12"
  }
 },
 "nbformat": 4,
 "nbformat_minor": 5
}
