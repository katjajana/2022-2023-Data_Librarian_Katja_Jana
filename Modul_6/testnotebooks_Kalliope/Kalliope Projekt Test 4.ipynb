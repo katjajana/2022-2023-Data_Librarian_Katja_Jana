{
 "cells": [
  {
   "cell_type": "markdown",
   "id": "76a68a9c",
   "metadata": {},
   "source": [
    "Beispiel xml: amt_df = pd.read_xml(\"Input.xml\", xpath=\"//Amt\")\n",
    "\n",
    "unittitle\n",
    "\n",
    "https://kalliope-verbund.info/files/480b012f45a0f002ec3095b6819ef8aea33078de.pdf\n",
    "\n",
    "\n",
    "https://towardsdatascience.com/parsing-xml-data-in-python-da26288280e1\n",
    "\n",
    "https://www.geeksforgeeks.org/how-to-create-pandas-dataframe-from-nested-xml/\n",
    "\n",
    "https://towardsdatascience.com/converting-multi-layered-xml-files-to-dataframes-in-python-using-xmltree-a13f9b043b48\n",
    "\n",
    "https://medium.com/@robertopreste/from-xml-to-pandas-dataframes-9292980b1c1c\n",
    "\n",
    "https://rdrr.io/cran/xmlconvert/man/xml_to_df.html\n",
    "\n",
    "https://stackabuse.com/parsing-xml-with-beautifulsoup-in-python/\n",
    "\n",
    "https://stackoverflow.com/questions/60193401/nested-xml-to-pandas-dataframe\n",
    "\n",
    "https://stackoverflow.com/questions/57787229/parse-xml-to-pandas-data-frame-in-python\n",
    "\n",
    "https://docs.python.org/3/library/xml.etree.elementtree.html#element-objects"
   ]
  },
  {
   "cell_type": "code",
   "execution_count": null,
   "id": "993fb3fc",
   "metadata": {},
   "outputs": [],
   "source": []
  },
  {
   "cell_type": "code",
   "execution_count": null,
   "id": "fdf85691",
   "metadata": {},
   "outputs": [],
   "source": []
  },
  {
   "cell_type": "code",
   "execution_count": 2,
   "id": "f2dbbe29",
   "metadata": {},
   "outputs": [],
   "source": [
    " # https://towardsdatascience.com/converting-multi-layered-xml-files-to-dataframes-in-python-using-xmltree-a13f9b043b48\n",
    "\n",
    "\n",
    "import xml.etree.cElementTree as et  \n",
    "import pandas as pd\n",
    "tree=et.parse('ead_DE-1a_4273.xml')\n",
    "root=tree.getroot()\n",
    "from bs4 import BeautifulSoup"
   ]
  },
  {
   "cell_type": "code",
   "execution_count": 4,
   "id": "6719208b",
   "metadata": {},
   "outputs": [],
   "source": [
    "# https://stackoverflow.com/questions/57787229/parse-xml-to-pandas-data-frame-in-python"
   ]
  },
  {
   "cell_type": "code",
   "execution_count": null,
   "id": "94afd9f0",
   "metadata": {},
   "outputs": [],
   "source": []
  },
  {
   "cell_type": "code",
   "execution_count": null,
   "id": "95523ea3",
   "metadata": {},
   "outputs": [],
   "source": []
  }
 ],
 "metadata": {
  "kernelspec": {
   "display_name": "Python 3 (ipykernel)",
   "language": "python",
   "name": "python3"
  },
  "language_info": {
   "codemirror_mode": {
    "name": "ipython",
    "version": 3
   },
   "file_extension": ".py",
   "mimetype": "text/x-python",
   "name": "python",
   "nbconvert_exporter": "python",
   "pygments_lexer": "ipython3",
   "version": "3.9.13"
  }
 },
 "nbformat": 4,
 "nbformat_minor": 5
}
