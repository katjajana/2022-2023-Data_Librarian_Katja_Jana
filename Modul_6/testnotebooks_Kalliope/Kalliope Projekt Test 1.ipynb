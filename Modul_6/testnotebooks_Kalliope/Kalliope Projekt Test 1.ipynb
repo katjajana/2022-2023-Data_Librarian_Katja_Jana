{
 "cells": [
  {
   "cell_type": "markdown",
   "id": "f8c72068",
   "metadata": {},
   "source": [
    "Beispiel xml: amt_df = pd.read_xml(\"Input.xml\", xpath=\"//Amt\")\n",
    "\n",
    "unittitle\n",
    "\n",
    "https://towardsdatascience.com/parsing-xml-data-in-python-da26288280e1"
   ]
  },
  {
   "cell_type": "code",
   "execution_count": 1,
   "id": "012dd8d9",
   "metadata": {},
   "outputs": [],
   "source": [
    "from xml.etree.ElementTree import parse\n",
    "\n",
    "document = parse('ead_DE-1a_4273.xml')\n",
    "\n",
    "# archdesc.did.origination.persname"
   ]
  },
  {
   "cell_type": "code",
   "execution_count": 2,
   "id": "4b1ff152",
   "metadata": {},
   "outputs": [
    {
     "name": "stdout",
     "output_type": "stream",
     "text": [
      "<xml.etree.ElementTree.ElementTree object at 0x7fe01770e370>\n"
     ]
    }
   ],
   "source": [
    "print(document)"
   ]
  },
  {
   "cell_type": "code",
   "execution_count": 3,
   "id": "f078dc9a",
   "metadata": {},
   "outputs": [
    {
     "name": "stdout",
     "output_type": "stream",
     "text": [
      "['__class__', '__delattr__', '__dict__', '__dir__', '__doc__', '__eq__', '__format__', '__ge__', '__getattribute__', '__gt__', '__hash__', '__init__', '__init_subclass__', '__le__', '__lt__', '__module__', '__ne__', '__new__', '__reduce__', '__reduce_ex__', '__repr__', '__setattr__', '__sizeof__', '__str__', '__subclasshook__', '__weakref__', '_root', '_setroot', 'find', 'findall', 'findtext', 'getroot', 'iter', 'iterfind', 'parse', 'write', 'write_c14n']\n"
     ]
    }
   ],
   "source": [
    "print(dir(document))"
   ]
  },
  {
   "cell_type": "code",
   "execution_count": 4,
   "id": "635239a2",
   "metadata": {},
   "outputs": [
    {
     "data": {
      "text/plain": [
       "[]"
      ]
     },
     "execution_count": 4,
     "metadata": {},
     "output_type": "execute_result"
    }
   ],
   "source": [
    "document.findall('.//archdesc/did/origination/persname')\n"
   ]
  },
  {
   "cell_type": "code",
   "execution_count": 5,
   "id": "191ba8c2",
   "metadata": {},
   "outputs": [],
   "source": [
    "for item in document.iterfind('level'):\n",
    "    print(item)"
   ]
  },
  {
   "cell_type": "code",
   "execution_count": 6,
   "id": "1ebcfa0e",
   "metadata": {},
   "outputs": [],
   "source": [
    "\n",
    "for item in document.iterfind('archdesc'):\n",
    "    print(item.findtext('level'))"
   ]
  },
  {
   "cell_type": "code",
   "execution_count": 7,
   "id": "7caabbf0",
   "metadata": {},
   "outputs": [],
   "source": [
    "for item in document.iterfind('origination'):\n",
    "    print(item)\n",
    "\n",
    "for item in document.iterfind('unittitle'):\n",
    "    print(item.findtext('origination'))"
   ]
  },
  {
   "cell_type": "code",
   "execution_count": 8,
   "id": "47fe7034",
   "metadata": {},
   "outputs": [],
   "source": [
    "repository = []\n",
    "unittitle = []\n",
    "corpname = []\n",
    "             \n",
    "            "
   ]
  },
  {
   "cell_type": "code",
   "execution_count": 9,
   "id": "50bb1c38",
   "metadata": {},
   "outputs": [],
   "source": [
    "for item in document.iterfind('repository'):\n",
    "    author.append(item.findtext('repository'))\n",
    "    title.append(item.findtext('unittitle'))\n",
    "    price.append(item.findtext('corpname'))"
   ]
  },
  {
   "cell_type": "code",
   "execution_count": 10,
   "id": "ddaa4405",
   "metadata": {},
   "outputs": [],
   "source": [
    "import pandas as pd "
   ]
  },
  {
   "cell_type": "code",
   "execution_count": 11,
   "id": "3b7017e2",
   "metadata": {},
   "outputs": [],
   "source": [
    "df = pd.DataFrame({'repository': repository, 'unittitle':unittitle, 'corpname':corpname})"
   ]
  },
  {
   "cell_type": "code",
   "execution_count": 13,
   "id": "41ddef42",
   "metadata": {},
   "outputs": [
    {
     "name": "stdout",
     "output_type": "stream",
     "text": [
      "Empty DataFrame\n",
      "Columns: [repository, unittitle, corpname]\n",
      "Index: []\n"
     ]
    }
   ],
   "source": [
    "print(df)"
   ]
  },
  {
   "cell_type": "code",
   "execution_count": null,
   "id": "87bad93f",
   "metadata": {},
   "outputs": [],
   "source": []
  },
  {
   "cell_type": "code",
   "execution_count": null,
   "id": "e46b6f35",
   "metadata": {},
   "outputs": [],
   "source": []
  },
  {
   "cell_type": "code",
   "execution_count": null,
   "id": "0444f8dd",
   "metadata": {},
   "outputs": [],
   "source": []
  }
 ],
 "metadata": {
  "kernelspec": {
   "display_name": "Python 3 (ipykernel)",
   "language": "python",
   "name": "python3"
  },
  "language_info": {
   "codemirror_mode": {
    "name": "ipython",
    "version": 3
   },
   "file_extension": ".py",
   "mimetype": "text/x-python",
   "name": "python",
   "nbconvert_exporter": "python",
   "pygments_lexer": "ipython3",
   "version": "3.9.13"
  }
 },
 "nbformat": 4,
 "nbformat_minor": 5
}
