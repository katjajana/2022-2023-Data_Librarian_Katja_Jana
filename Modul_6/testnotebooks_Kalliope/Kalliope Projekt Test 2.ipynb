{
 "cells": [
  {
   "cell_type": "markdown",
   "id": "76a68a9c",
   "metadata": {},
   "source": [
    "Beispiel xml: amt_df = pd.read_xml(\"Input.xml\", xpath=\"//Amt\")\n",
    "\n",
    "unittitle\n",
    "\n",
    "https://towardsdatascience.com/parsing-xml-data-in-python-da26288280e1\n",
    "\n",
    "https://www.geeksforgeeks.org/how-to-create-pandas-dataframe-from-nested-xml/\n",
    "\n",
    "https://towardsdatascience.com/converting-multi-layered-xml-files-to-dataframes-in-python-using-xmltree-a13f9b043b48\n",
    "\n",
    "https://medium.com/@robertopreste/from-xml-to-pandas-dataframes-9292980b1c1c"
   ]
  },
  {
   "cell_type": "code",
   "execution_count": 1,
   "id": "f2dbbe29",
   "metadata": {},
   "outputs": [],
   "source": [
    "import pandas as pd"
   ]
  },
  {
   "cell_type": "code",
   "execution_count": 6,
   "id": "f0ae8bc0",
   "metadata": {},
   "outputs": [],
   "source": [
    "from xml.etree.ElementTree import parse\n",
    "\n",
    "document = parse('ead_DE-1a_4273.xml')\n",
    "\n"
   ]
  },
  {
   "cell_type": "code",
   "execution_count": 4,
   "id": "2ceb149b",
   "metadata": {},
   "outputs": [
    {
     "name": "stdout",
     "output_type": "stream",
     "text": [
      "<xml.etree.ElementTree.ElementTree object at 0x7f80666d7d60>\n"
     ]
    }
   ],
   "source": [
    "print(document)"
   ]
  },
  {
   "cell_type": "code",
   "execution_count": 13,
   "id": "08ff17fc",
   "metadata": {},
   "outputs": [
    {
     "name": "stdout",
     "output_type": "stream",
     "text": [
      "['__class__', '__delattr__', '__dict__', '__dir__', '__doc__', '__eq__', '__format__', '__ge__', '__getattribute__', '__gt__', '__hash__', '__init__', '__init_subclass__', '__le__', '__lt__', '__module__', '__ne__', '__new__', '__reduce__', '__reduce_ex__', '__repr__', '__setattr__', '__sizeof__', '__str__', '__subclasshook__', '__weakref__', '_root', '_setroot', 'find', 'findall', 'findtext', 'getroot', 'iter', 'iterfind', 'parse', 'write', 'write_c14n']\n"
     ]
    }
   ],
   "source": [
    "print(dir(document))"
   ]
  },
  {
   "cell_type": "code",
   "execution_count": 16,
   "id": "31ea4cc7",
   "metadata": {},
   "outputs": [],
   "source": [
    "for item in document.iterfind('arrangement'):\n",
    "    print(item)"
   ]
  },
  {
   "cell_type": "code",
   "execution_count": 17,
   "id": "19c89550",
   "metadata": {},
   "outputs": [],
   "source": [
    "\n",
    "for item in document.iterfind('arrangement'):\n",
    "    print(item.findtext('head'))"
   ]
  },
  {
   "cell_type": "code",
   "execution_count": 19,
   "id": "4c1d8fc3",
   "metadata": {},
   "outputs": [],
   "source": [
    "for item in document.iterfind('unittitle'):\n",
    "    print(item)\n",
    "\n",
    "for item in document.iterfind('unittitle'):\n",
    "    print(item.findtext('corpname'))"
   ]
  },
  {
   "cell_type": "code",
   "execution_count": 20,
   "id": "fb63b19d",
   "metadata": {},
   "outputs": [],
   "source": [
    "repository = []\n",
    "unittitle = []\n",
    "corpname = []\n",
    "             \n",
    "            "
   ]
  },
  {
   "cell_type": "code",
   "execution_count": 21,
   "id": "7a205238",
   "metadata": {},
   "outputs": [],
   "source": [
    "for item in document.iterfind('repository'):\n",
    "    author.append(item.findtext('repository'))\n",
    "    title.append(item.findtext('unittitle'))\n",
    "    price.append(item.findtext('corpname'))"
   ]
  },
  {
   "cell_type": "code",
   "execution_count": 22,
   "id": "95fe317e",
   "metadata": {},
   "outputs": [],
   "source": [
    "import pandas as pd "
   ]
  },
  {
   "cell_type": "code",
   "execution_count": 23,
   "id": "2cd5c902",
   "metadata": {},
   "outputs": [],
   "source": [
    "df = pd.DataFrame({'repository': repository, 'unittitle':unittitle, 'corpname':corpname})"
   ]
  },
  {
   "cell_type": "code",
   "execution_count": 24,
   "id": "4d0d27d0",
   "metadata": {},
   "outputs": [
    {
     "name": "stdout",
     "output_type": "stream",
     "text": [
      "Empty DataFrame\n",
      "Columns: [repository, unittitle, corpname]\n",
      "Index: []\n"
     ]
    }
   ],
   "source": [
    "print(df)"
   ]
  },
  {
   "cell_type": "code",
   "execution_count": 22,
   "id": "41d9010c",
   "metadata": {},
   "outputs": [],
   "source": [
    "import xml.etree.ElementTree as ETree #https://www.geeksforgeeks.org/how-to-create-pandas-dataframe-from-nested-xml/"
   ]
  },
  {
   "cell_type": "code",
   "execution_count": 25,
   "id": "a2bd799b",
   "metadata": {},
   "outputs": [],
   "source": [
    "xmldata = \"ead_DE-1a_4273.xml\"\n",
    "prstree = ETree.parse(xmldata)\n",
    "root = prstree.getroot()"
   ]
  },
  {
   "cell_type": "code",
   "execution_count": 31,
   "id": "4a092372",
   "metadata": {},
   "outputs": [
    {
     "name": "stdout",
     "output_type": "stream",
     "text": [
      "Empty DataFrame\n",
      "Columns: [repository, persname]\n",
      "Index: []\n"
     ]
    }
   ],
   "source": [
    "# print(root)\n",
    "items = []\n",
    "all_items = []\n",
    "for repo in root.iter('did'):\n",
    "    \n",
    "    repository = repo.attrib.get('corpname').text\n",
    "    persname = storeno.find('persname').text\n",
    "    \n",
    "  \n",
    "    items = [repository, persname]\n",
    "    all_items.append(items)\n",
    "  \n",
    "xmlToDf = pd.DataFrame(all_items, columns=['repository', 'persname'])\n",
    "  \n",
    "print(xmlToDf.to_string(index=False))"
   ]
  },
  {
   "cell_type": "code",
   "execution_count": 32,
   "id": "0fc7cd6e",
   "metadata": {},
   "outputs": [],
   "source": [
    "#https://medium.com/@robertopreste/from-xml-to-pandas-dataframes-9292980b1c1c"
   ]
  },
  {
   "cell_type": "code",
   "execution_count": null,
   "id": "cb2e31b7",
   "metadata": {},
   "outputs": [],
   "source": []
  }
 ],
 "metadata": {
  "kernelspec": {
   "display_name": "Python 3 (ipykernel)",
   "language": "python",
   "name": "python3"
  },
  "language_info": {
   "codemirror_mode": {
    "name": "ipython",
    "version": 3
   },
   "file_extension": ".py",
   "mimetype": "text/x-python",
   "name": "python",
   "nbconvert_exporter": "python",
   "pygments_lexer": "ipython3",
   "version": "3.9.13"
  }
 },
 "nbformat": 4,
 "nbformat_minor": 5
}
