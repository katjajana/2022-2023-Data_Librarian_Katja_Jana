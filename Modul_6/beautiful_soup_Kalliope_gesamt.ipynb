{
 "cells": [
  {
   "cell_type": "code",
   "execution_count": 1,
   "id": "7e3b1d91",
   "metadata": {},
   "outputs": [],
   "source": [
    "import os\n",
    "\n",
    "from bs4 import BeautifulSoup\n",
    "\n",
    "import pandas as pd\n",
    "\n",
    "import re"
   ]
  },
  {
   "cell_type": "code",
   "execution_count": 2,
   "id": "20d43941",
   "metadata": {},
   "outputs": [],
   "source": [
    "path = '/home_ext/PK/b-kj102/Dokumente/ZBIW_datalib_Projekt_Kalliope/ead'\n",
    "\n",
    "for filename in os.listdir(path):\n",
    "    if filename.endswith(\".xml\"):\n",
    "        fullpath = os.path.join(path, filename)\n",
    "\n",
    "        # Get Page, Make Soup\n",
    "        soup = BeautifulSoup(open(fullpath), 'xml')"
   ]
  },
  {
   "cell_type": "code",
   "execution_count": 3,
   "id": "9ee9cdf1",
   "metadata": {},
   "outputs": [
    {
     "name": "stdout",
     "output_type": "stream",
     "text": [
      "None\n"
     ]
    }
   ],
   "source": [
    "print(soup.title)"
   ]
  },
  {
   "cell_type": "code",
   "execution_count": 6,
   "id": "7fe9962b",
   "metadata": {},
   "outputs": [
    {
     "data": {
      "text/plain": [
       "2"
      ]
     },
     "execution_count": 6,
     "metadata": {},
     "output_type": "execute_result"
    }
   ],
   "source": [
    "len(soup.find_all('repository')) "
   ]
  },
  {
   "cell_type": "code",
   "execution_count": 7,
   "id": "82876dc4",
   "metadata": {},
   "outputs": [
    {
     "data": {
      "text/plain": [
       "2"
      ]
     },
     "execution_count": 7,
     "metadata": {},
     "output_type": "execute_result"
    }
   ],
   "source": [
    "len(soup.find_all('persname')) "
   ]
  },
  {
   "cell_type": "code",
   "execution_count": 8,
   "id": "2cbaad7e",
   "metadata": {},
   "outputs": [
    {
     "data": {
      "text/plain": [
       "[<ns3:repository><ns3:corpname authfilenumber=\"DE-138\" encodinganalog=\"DE-611-KS-20\" role=\"Aufbewahrungsort\" source=\"ISIL\">Eutiner Landesbibliothek</ns3:corpname></ns3:repository>,\n",
       " <repository><corpname authfilenumber=\"DE-138\" encodinganalog=\"DE-611-KS-20\" role=\"Aufbewahrungsort\" source=\"ISIL\">Eutiner Landesbibliothek</corpname></repository>]"
      ]
     },
     "execution_count": 8,
     "metadata": {},
     "output_type": "execute_result"
    }
   ],
   "source": [
    "soup.find_all('repository')"
   ]
  },
  {
   "cell_type": "code",
   "execution_count": null,
   "id": "bdf137ee",
   "metadata": {},
   "outputs": [],
   "source": []
  }
 ],
 "metadata": {
  "kernelspec": {
   "display_name": "Python 3 (ipykernel)",
   "language": "python",
   "name": "python3"
  },
  "language_info": {
   "codemirror_mode": {
    "name": "ipython",
    "version": 3
   },
   "file_extension": ".py",
   "mimetype": "text/x-python",
   "name": "python",
   "nbconvert_exporter": "python",
   "pygments_lexer": "ipython3",
   "version": "3.9.13"
  }
 },
 "nbformat": 4,
 "nbformat_minor": 5
}
