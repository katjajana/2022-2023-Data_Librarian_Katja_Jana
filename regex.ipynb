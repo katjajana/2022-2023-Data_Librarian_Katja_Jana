{
 "cells": [
  {
   "cell_type": "code",
   "execution_count": 4,
   "id": "ff3de25b",
   "metadata": {},
   "outputs": [],
   "source": [
    "import re"
   ]
  },
  {
   "cell_type": "code",
   "execution_count": 29,
   "id": "257d89cd",
   "metadata": {},
   "outputs": [],
   "source": [
    "my_sentence = \"There are some grey trees outside, 978489, 8878798\""
   ]
  },
  {
   "cell_type": "code",
   "execution_count": 31,
   "id": "c01a2c0b",
   "metadata": {},
   "outputs": [],
   "source": [
    "hits = re.findall(\"\\d+\", my_sentence)"
   ]
  },
  {
   "cell_type": "code",
   "execution_count": 32,
   "id": "d076ff11",
   "metadata": {},
   "outputs": [
    {
     "data": {
      "text/plain": [
       "['978489', '8878798']"
      ]
     },
     "execution_count": 32,
     "metadata": {},
     "output_type": "execute_result"
    }
   ],
   "source": [
    "hits"
   ]
  },
  {
   "cell_type": "code",
   "execution_count": null,
   "id": "c2945d69",
   "metadata": {},
   "outputs": [],
   "source": []
  }
 ],
 "metadata": {
  "kernelspec": {
   "display_name": "Python 3 (ipykernel)",
   "language": "python",
   "name": "python3"
  },
  "language_info": {
   "codemirror_mode": {
    "name": "ipython",
    "version": 3
   },
   "file_extension": ".py",
   "mimetype": "text/x-python",
   "name": "python",
   "nbconvert_exporter": "python",
   "pygments_lexer": "ipython3",
   "version": "3.9.12"
  }
 },
 "nbformat": 4,
 "nbformat_minor": 5
}
